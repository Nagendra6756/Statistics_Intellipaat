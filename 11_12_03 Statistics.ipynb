{
 "cells": [
  {
   "cell_type": "code",
   "execution_count": 1,
   "metadata": {},
   "outputs": [],
   "source": [
    "#covariance vs correlation"
   ]
  },
  {
   "cell_type": "code",
   "execution_count": 2,
   "metadata": {},
   "outputs": [],
   "source": [
    "#probability"
   ]
  },
  {
   "cell_type": "code",
   "execution_count": null,
   "metadata": {},
   "outputs": [],
   "source": [
    "#Marginal prob\n",
    "\n"
   ]
  },
  {
   "cell_type": "markdown",
   "metadata": {},
   "source": [
    "Prob can be calculated from the table\n",
    "\n",
    "prob in a subset without reference to other\n"
   ]
  },
  {
   "cell_type": "code",
   "execution_count": 3,
   "metadata": {},
   "outputs": [],
   "source": [
    "#conditional prob"
   ]
  },
  {
   "cell_type": "code",
   "execution_count": 4,
   "metadata": {},
   "outputs": [],
   "source": [
    "#Bayes theorem"
   ]
  },
  {
   "cell_type": "code",
   "execution_count": 5,
   "metadata": {},
   "outputs": [],
   "source": [
    "#binomial dist\n",
    "#1.There should be only 2 trials\n",
    "#2. Prob should be same for all trials\n",
    "#3. no of trials should be fixed\n",
    "#4. Trials should be independent\n"
   ]
  },
  {
   "cell_type": "code",
   "execution_count": null,
   "metadata": {},
   "outputs": [],
   "source": []
  },
  {
   "cell_type": "code",
   "execution_count": 1,
   "metadata": {},
   "outputs": [],
   "source": [
    "#12/03/23"
   ]
  },
  {
   "cell_type": "code",
   "execution_count": null,
   "metadata": {},
   "outputs": [],
   "source": [
    "#Normal dist:\n",
    "#68.2 % of data falls within 1 std\n",
    "#85.4 % of data falls with in 2 std\n",
    "#99.7 % of data falls with in 3 std\n",
    "#Any data above this will be an outlier\n"
   ]
  },
  {
   "cell_type": "code",
   "execution_count": 2,
   "metadata": {},
   "outputs": [],
   "source": [
    "#Inferential stats:\n"
   ]
  },
  {
   "cell_type": "markdown",
   "metadata": {},
   "source": [
    "Drawing conclusions from the sample data and making inferences about the population"
   ]
  },
  {
   "cell_type": "markdown",
   "metadata": {},
   "source": [
    "# Null & Alternate Hypothesis"
   ]
  },
  {
   "cell_type": "code",
   "execution_count": 3,
   "metadata": {},
   "outputs": [],
   "source": [
    "\n",
    "#ex:x murders y\n",
    "#Null:x doesn't murder y\n",
    "#alternatete:x murder y"
   ]
  },
  {
   "cell_type": "markdown",
   "metadata": {},
   "source": [
    "Note:Always we need to prove alternate Hypothesis"
   ]
  },
  {
   "cell_type": "code",
   "execution_count": 2,
   "metadata": {},
   "outputs": [],
   "source": [
    "#problem:avg lead content maggie>5550\n",
    "\n",
    "#sample:mean=5800\n",
    "#s.d=600\n",
    "\n",
    "#null:mean:5550\n",
    "\n",
    "#alternatre mean>5550\n",
    "\n",
    "#formula z=x-u/s.d/root(n)\n",
    "\n",
    "#Here 'Z' means how many s.d away from mean\n",
    "\n",
    "#After getting z value we need to search the value in the z-table to find the prob.\n",
    "\n",
    "#z table represents the area under the curve\n",
    "\n",
    "#p value:0.9938(this will be left side of normal dist)\n",
    "\n",
    "#1-0.9938=0.006\n",
    "\n",
    "\n",
    "#if p<alpha then \"reject null hyp\"\n",
    "\n",
    "#0.006<0.05 so we accept alternate\n",
    "#there is enough evidence that  avg lead content is >5550\n",
    "\n",
    "#critical value:\n",
    "#alpha:0.05(chance of error)\n",
    "\n",
    "#prob of rejecting null hyp when it is true:Type 1 error\n"
   ]
  },
  {
   "cell_type": "raw",
   "metadata": {},
   "source": [
    "Note:if the error rate is high rejection will be less\n",
    "if the error rate is low then rejection will be high"
   ]
  },
  {
   "cell_type": "code",
   "execution_count": 1,
   "metadata": {},
   "outputs": [],
   "source": [
    "#avg speed=9 m/h\n",
    "#sample=36 days ->avg speed=9.3\n",
    "#std pop=0.8\n",
    "#alpha=0.01\n",
    "\n",
    "#Null:h0=9 m/h\n",
    "#alternate:h1!=9.0 m/h\n",
    "\n",
    "#z=9.3-9/0.8/root(36)\n",
    "#z=2.25  --search this on z table\n",
    "\n",
    "#which is p=0.9878\n",
    "\n",
    "#1-p=0.012\n",
    "\n",
    "#0.012*2=0.024  --multiply by 2 beacuse of the alternate hyp value is =9\n",
    "\n",
    "\n",
    "#0.02>0.01\n",
    "\n",
    "#we fail to reject null hyp\n",
    "\n"
   ]
  },
  {
   "cell_type": "code",
   "execution_count": null,
   "metadata": {},
   "outputs": [],
   "source": []
  }
 ],
 "metadata": {
  "kernelspec": {
   "display_name": "Python 3",
   "language": "python",
   "name": "python3"
  },
  "language_info": {
   "codemirror_mode": {
    "name": "ipython",
    "version": 3
   },
   "file_extension": ".py",
   "mimetype": "text/x-python",
   "name": "python",
   "nbconvert_exporter": "python",
   "pygments_lexer": "ipython3",
   "version": "3.8.5"
  }
 },
 "nbformat": 4,
 "nbformat_minor": 4
}
